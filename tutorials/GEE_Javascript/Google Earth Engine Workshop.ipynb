{
 "cells": [
  {
   "cell_type": "markdown",
   "metadata": {},
   "source": [
    "# Earth Engine Workshop\n",
    "\n",
    "## *Remote Sensing from the Cloud*\n",
    "## SEFS 521"
   ]
  },
  {
   "cell_type": "markdown",
   "metadata": {},
   "source": [
    "## Today's Objectives\n",
    "\n",
    "#### 1. Opening and Navigating the API\n",
    "\n",
    "#### 2. Loading & Exploring Feature Collections \n",
    "\n",
    "#### 3. Loading & Visualizing Images\n",
    "\n",
    "#### 4. Dealing with Feature Collections\n",
    "\n",
    "#### 5. Charts & Figures"
   ]
  },
  {
   "cell_type": "markdown",
   "metadata": {},
   "source": [
    "## The Background"
   ]
  },
  {
   "cell_type": "markdown",
   "metadata": {},
   "source": [
    "We are going to find the location in Seattle with the highest elevation and the least rainfall. We are also going to consider the slope around that area (for riding bikes). We are going to do all of this in Earth Engine. "
   ]
  },
  {
   "cell_type": "markdown",
   "metadata": {},
   "source": [
    "## Opening and Navigating the API"
   ]
  },
  {
   "cell_type": "markdown",
   "metadata": {},
   "source": [
    "Use the following link to access the Google Earth Engine Javascript API: \n",
    "\n",
    "        https://code.earthengine.google.com/\n",
    "\n",
    "In the API click on the \"Docs\" tab on the left. This is a searchable wiki for all the algorithms. \n",
    "\n",
    "Go up to the \"Help\" button on the right. This is important. I use this all the time to go to the developers forum, the real help documentation, the dataset request form, and more. \n",
    "\n",
    "Now go to \"Scripts\" and click \"New Script\". Title your script \"My First Earth Engine Script Ever\" or whatever.\n",
    "\n",
    "In the coding console, type the following\n",
    "        \n",
    "        // I love donuts. \n",
    "\n",
    "This is how you comment code. Now change the comment to read: \n",
    "    \n",
    "        // SEFS 521 Earth Engine Demo Script\n",
    "        \n",
    "and go to the top and click \"Run\". Your code will run -even though it is basically empty. Now click \"Save\". You can tell when a script hasn't been saved because it will have a * next to the title. Now that you have saved the script, click \"Get Link\". If you look at your browser, you will see a new unique URL gets generated. You can copy this link and use it to share scripts with people. \n",
    "\n",
    "\n",
    "<img src=\"image.png\">\n"
   ]
  },
  {
   "cell_type": "markdown",
   "metadata": {},
   "source": [
    "## Loading & Exploring Feature Collections"
   ]
  },
  {
   "cell_type": "markdown",
   "metadata": {},
   "source": [
    "Someone else was kind enough to upload the NHD watershed boundaries using Fusion Tables. \n",
    "Load a Feature Collection from Fusion Tables using the following command:\n",
    "\n",
    "    var watersheds = ee.FeatureCollection(\"ft:1IXfrLpTHX4dtdj1LcNXjJADBB-d93rkdJ9acSEWK\")\n",
    "    Map.addLayer(watersheds, null, 'watersheds')\n",
    "    \n",
    "A map should appear in the mapping window that looks sort of like this: \n",
    "\n",
    "<img src=\"watersheds.png\">\n",
    "\n",
    "You can go down to the mapping window and play with the zoom, the background and the transparency. \n"
   ]
  },
  {
   "cell_type": "markdown",
   "metadata": {},
   "source": [
    "Let's explore this feature collection a little bit. First, type this into your coding console: \n",
    "\n",
    "    print(watersheds)\n",
    "    \n",
    "Click around. How many features, or HUC6 watersheds are there? What kind of information or properties does each feature have? \n",
    "\n",
    "Now try this. \n",
    "\n",
    "    print(watersheds, 'watersheds')\n",
    "    \n",
    "What changed?     "
   ]
  },
  {
   "cell_type": "markdown",
   "metadata": {},
   "source": [
    "    "
   ]
  },
  {
   "cell_type": "markdown",
   "metadata": {},
   "source": [
    "\n",
    "We only care about Seattle, so we want to isolate our watershed name. To do this, click on the \"Inspector\" tab up on the right next to the Console. Then, scroll over to Seattle, click on the map and see what pops up in the \"Inspector\" window. What is the name of the HUC 6 that Seattle is located in? "
   ]
  },
  {
   "cell_type": "markdown",
   "metadata": {},
   "source": [
    "In order to filter the feature collection down to just that region, use the following: \n",
    "\n",
    "    var pugetSound= watersheds.filter(ee.Filter.contains('name', 'Puget Sound'));\n",
    "    Map.addLayer(pugetSound, null, 'Puget Sound')    "
   ]
  },
  {
   "cell_type": "markdown",
   "metadata": {},
   "source": [
    "Earth Engine Documentation: https://developers.google.com/earth-engine/feature_collections#creating-featurecollection-objects"
   ]
  },
  {
   "cell_type": "markdown",
   "metadata": {},
   "source": [
    "## Loading and Visualizing Images"
   ]
  },
  {
   "cell_type": "markdown",
   "metadata": {},
   "source": [
    "### Elevation\n",
    "\n",
    "Let's load a couple different interesting images into our window. \n",
    "\n",
    "    var elevation = ee.Image(\"USGS/NED\")\n",
    "    Map.addLayer(elevation, {min:0, max:3000, palette:['000000',\"ffffff\"]},\"elevation\");\n",
    "\n",
    "Whoa. Look at the power! This is a digital elevation model for the whole United States with a resolution of 10 meters! While cool, we only want the elevation in our study area. \n",
    "\n",
    "    Map.addLayer(elevation.clip(pugetSound), {min:0, max:3000, palette:['000000',\"ffffff\"]},\"elevation2\");\n",
    "\n",
    "Notice your screen is entirely blank. What do you suspect happened?\n",
    "\n",
    "You can fix this by adjusting the min and the max. Try this for example: \n",
    "    \n",
    "    Map.addLayer(elevation.clip(pugetSound), {min:0, max:300, palette:['000000',\"ffffff\"]},\"elevation2\");\n"
   ]
  },
  {
   "cell_type": "markdown",
   "metadata": {},
   "source": [
    "### Slope\n",
    "\n",
    "Let's calculate slope, just because it is so easy. \n",
    "\n",
    "    var slope = ee.Terrain.slope(elevation); \n",
    "    var visslope = {min:0, max:10, palette:['00ff00',\"ff0000\"]};\n",
    "    Map.addLayer(slope.clip(pugetSound),visslope,\"slope\");\n"
   ]
  },
  {
   "cell_type": "markdown",
   "metadata": {},
   "source": [
    "Earth Engine Documentation: https://developers.google.com/earth-engine/image_overview"
   ]
  },
  {
   "cell_type": "markdown",
   "metadata": {},
   "source": [
    "## Dealing with Image Collections"
   ]
  },
  {
   "cell_type": "markdown",
   "metadata": {},
   "source": [
    "### Precipitation"
   ]
  },
  {
   "cell_type": "markdown",
   "metadata": {},
   "source": [
    "Precipitation comes as an Image Collection where each image in the collection represents 1 day of data. These images are all stacked up in a collection. Let's get just the precipitation data for a specific range of dates.  \n",
    "\n",
    "    var annualPrecip = ee.Image(ee.ImageCollection('IDAHO_EPSCOR/GRIDMET').filterDate\n",
    "    ('2015-01-01', '2015-12-30').select(\"pr\").sum())  \n",
    "    print('annualPrecip', annualPrecip)\n",
    "\n",
    "Earth Engine has many tools for reducing the dimensionality of image collections. Some of these tools are reducers. If we want to take this image and just turn it into an object, we can use a Reducer. \n",
    "\n",
    "    // Reduce precip down to one number. The region parameter is the Feature geometry.\n",
    "    var meanPrecip = annualPrecip.reduceRegion({\n",
    "      reducer: ee.Reducer.mean(),\n",
    "      geometry: pugetSound.geometry(),\n",
    "      scale: 100,\n",
    "      maxPixels: 1e9\n",
    "    });\n",
    "\n",
    "    print(meanPrecip, 'mean annual precip')\n",
    "    \n",
    "This can be handy if we want to extract numbers or statistics from images and image collections.     "
   ]
  },
  {
   "cell_type": "markdown",
   "metadata": {},
   "source": [
    "Now we want to visualize our new layer. Let's define a lovely palette and map our image. \n",
    "    \n",
    "    //define vis parameters\n",
    "    var palette=  [\"66ffff\",\"00ff00\", \"ffff00\", \"ff3300\", \"ff0000\"];  \n",
    "    \n",
    "    //add precip to the map\n",
    "    Map.addLayer(annualPrecip, {min:900, max: 2000, palette: palette}, \"Annual Precip\"); \n",
    "    \n",
    " \n",
    " \n",
    "\n",
    "You should see something like this:    \n",
    "\n",
    "<img src=\"annualPrecip.png\">\n",
    "\n"
   ]
  },
  {
   "cell_type": "markdown",
   "metadata": {},
   "source": [
    "### Filtering Individual Storm Events\n",
    "\n",
    "You can even use this method to try do detect individual storms. Using the code above, try to isolate the big storm that happened between August 29-September 1st of this past fall. Hint: Change the dates and the image visualization parameters. "
   ]
  },
  {
   "cell_type": "markdown",
   "metadata": {},
   "source": [
    "Earth Engine Documentation: https://developers.google.com/earth-engine/ic_creating"
   ]
  },
  {
   "cell_type": "markdown",
   "metadata": {},
   "source": [
    "## Charts & Figures"
   ]
  },
  {
   "cell_type": "markdown",
   "metadata": {},
   "source": [
    "I am curious about the elevation variability in Seattle because it feels hecka hilly when I ride my bike around. \n",
    "Let's make a histogram to take a peak at the distribution of different elevation classes. \n",
    "\n",
    "    // Manually compute a histogram.\n",
    "    var hist = ee.Reducer.histogram({minBucketWidth: 300});\n",
    "    var dict = elevation.reduceRegion(hist, pugetSound, 200);\n",
    "\n",
    "    // Use the custom helper function below to get a data table.\n",
    "    var dt = getDataTable(dict.get('elevation').getInfo());\n",
    "\n",
    "    // Fancy options.\n",
    "    var options = {\n",
    "      title: 'Histogram of elevation',\n",
    "      vAxis: {\n",
    "        title: 'Frequency'\n",
    "      },\n",
    "      bar: {  \n",
    "        groupWidth: '100%'  // Eliminate horizontal space between bars.\n",
    "      },\n",
    "      legend: {\n",
    "        position: 'none'\n",
    "      },\n",
    "      hAxis: {\n",
    "        ticks: getTicks(dt.rows),\n",
    "        baselineColor: 'transparent'  // Hide off-zero vertical axes.\n",
    "      }\n",
    "    };\n",
    "    print(Chart(dt, 'ColumnChart', options));\n",
    "\n",
    "    function getTicks(rows) {\n",
    "      // Infer min from difference between first two entries.\n",
    "      var bucketWidth = rows[1].c[0].v - rows[0].c[0].v;\n",
    "      return rows.map(function(row) {\n",
    "        var min = parseInt(row.c[0].v);\n",
    "        // Use bucket mins as tick values and position to the\n",
    "        // left of each bucket column.\n",
    "        return {'v': min - bucketWidth / 2, 'f': min}; \n",
    "      });\n",
    "    }\n",
    "\n",
    "    // Generates a Vizualization API data table from histogram output.\n",
    "    function getDataTable(histDict) {\n",
    "      var rows = histDict.histogram.map(function(v, i) {\n",
    "        var min = histDict.bucketMin + histDict.bucketWidth * i;\n",
    "        return {c: [{v: min}, {v: v}]}\n",
    "      });\n",
    "      var cols = [\n",
    "          {id: 'bucketMin', label: 'Bucket Min', type: 'number'},\n",
    "          {id: 'count', label: 'Count', type: 'number'}\n",
    "      ];\n",
    "      return {cols: cols, rows: rows};\n",
    "    }"
   ]
  },
  {
   "cell_type": "markdown",
   "metadata": {},
   "source": [
    "<img src=\"histogram.png\">\n"
   ]
  },
  {
   "cell_type": "markdown",
   "metadata": {},
   "source": [
    "Earth Engine Documentation: https://developers.google.com/earth-engine/charts"
   ]
  },
  {
   "cell_type": "markdown",
   "metadata": {},
   "source": [
    "## Final Thoughts\n",
    "\n",
    "If we finish early and have time, take some time to poke around the API a bit more. You could explore the other datasets that are available or walk through any of the other tutorials on the Earth Engine User Guide. \n",
    "\n",
    "https://developers.google.com/earth-engine/tutorials\n",
    "\n",
    "Here is a bailout copy of my script if you get totally stuck\n",
    "https://code.earthengine.google.com/9d84eeaf3399bbc169582a19db6971a1"
   ]
  }
 ],
 "metadata": {
  "kernelspec": {
   "display_name": "Python 2",
   "language": "python",
   "name": "python2"
  },
  "language_info": {
   "codemirror_mode": {
    "name": "ipython",
    "version": 2
   },
   "file_extension": ".py",
   "mimetype": "text/x-python",
   "name": "python",
   "nbconvert_exporter": "python",
   "pygments_lexer": "ipython2",
   "version": "2.7.11"
  }
 },
 "nbformat": 4,
 "nbformat_minor": 0
}
